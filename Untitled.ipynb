{
 "cells": [
  {
   "cell_type": "code",
   "execution_count": 3,
   "id": "8ad551d7-3868-4281-b27b-49e0cb6fcf71",
   "metadata": {},
   "outputs": [
    {
     "name": "stdout",
     "output_type": "stream",
     "text": [
      "✅ gen 폴더의 번호 변경이 완료되었습니다.\n"
     ]
    }
   ],
   "source": [
    "import os\n",
    "\n",
    "\n",
    "gen_path = \"CACD_VS/imp\"\n",
    "\n",
    "\n",
    "old_folders = sorted(os.listdir(gen_path))\n",
    "\n",
    "\n",
    "new_folders = list(range(2000)) \n",
    "\n",
    "\n",
    "for old_idx, new_idx in zip(old_folders, new_folders):\n",
    "    old_folder_path = os.path.join(gen_path, old_idx)  \n",
    "    new_folder_path = os.path.join(gen_path, f\"{new_idx:04d}\")  \n",
    "\n",
    "    \n",
    "    os.rename(old_folder_path, new_folder_path)\n",
    "\n",
    "print(\"gen 폴더의 번호 변경이 완료되었습니다.\")"
   ]
  },
  {
   "cell_type": "code",
   "execution_count": null,
   "id": "266b00a3-e293-4c92-929e-540b9029a65a",
   "metadata": {},
   "outputs": [],
   "source": []
  }
 ],
 "metadata": {
  "kernelspec": {
   "display_name": "Python 3 (ipykernel)",
   "language": "python",
   "name": "python3"
  },
  "language_info": {
   "codemirror_mode": {
    "name": "ipython",
    "version": 3
   },
   "file_extension": ".py",
   "mimetype": "text/x-python",
   "name": "python",
   "nbconvert_exporter": "python",
   "pygments_lexer": "ipython3",
   "version": "3.12.7"
  }
 },
 "nbformat": 4,
 "nbformat_minor": 5
}
