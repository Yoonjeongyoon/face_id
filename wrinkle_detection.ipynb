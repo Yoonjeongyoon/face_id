{
 "cells": [
  {
   "cell_type": "code",
   "execution_count": null,
   "id": "ec12506a-3508-4465-a98d-6ca6f5ef6f57",
   "metadata": {},
   "outputs": [
    {
     "name": "stderr",
     "output_type": "stream",
     "text": [
      "/tmp/ipykernel_63298/1022225396.py:11: UserWarning: Use keyword parameter `sigmas` instead of `scale_range` and `scale_range` which will be removed in version 0.17.\n",
      "  sk_frangi_img = frangi(g, scale_range=(0, 1), scale_step=0.01, beta=1.5, gamma=0.01)\n"
     ]
    },
    {
     "name": "stdout",
     "output_type": "stream",
     "text": [
      "검출된 주름 영역 수: 0\n"
     ]
    },
    {
     "name": "stderr",
     "output_type": "stream",
     "text": [
      "Only C and default locale supported with the posix collation implementation\n",
      "Only C and default locale supported with the posix collation implementation\n",
      "Case insensitive sorting unsupported in the posix collation implementation\n",
      "Numeric mode unsupported in the posix collation implementation\n"
     ]
    }
   ],
   "source": [
    "import cv2\n",
    "import numpy as np\n",
    "from skimage.filters import frangi, gabor\n",
    "from skimage import measure, morphology\n",
    "\n",
    "def master_control(image):\n",
    "    # 이미지의 B, G, R 채널 분리 (여기서는 녹색 채널 사용)\n",
    "    b, g, r = cv2.split(image)\n",
    "    \n",
    "    # 녹색 채널에 Frangi 필터 적용 (주름의 선형 구조 강조)\n",
    "    sk_frangi_img = frangi(g, scale_range=(0, 1), scale_step=0.01, beta=1.5, gamma=0.01)\n",
    "    sk_frangi_img = morphology.closing(sk_frangi_img, morphology.disk(1))\n",
    "    \n",
    "    # 녹색 채널에 Gabor 필터 적용 (여러 방향의 주름 강조)\n",
    "    sk_gabor_img_1, _ = gabor(g, frequency=0.35, theta=0)\n",
    "    sk_gabor_img_2, _ = gabor(g, frequency=0.35, theta=np.deg2rad(45))\n",
    "    sk_gabor_img_3, _ = gabor(g, frequency=0.35, theta=np.deg2rad(90))\n",
    "    sk_gabor_img_4, _ = gabor(g, frequency=0.35, theta=np.deg2rad(360))  # 360°는 0°와 동일\n",
    "    sk_gabor_img_1 = morphology.opening(sk_gabor_img_1, morphology.disk(2))\n",
    "    sk_gabor_img_2 = morphology.opening(sk_gabor_img_2, morphology.disk(1))\n",
    "    sk_gabor_img_3 = morphology.opening(sk_gabor_img_3, morphology.disk(2))\n",
    "    sk_gabor_img_4 = morphology.opening(sk_gabor_img_4, morphology.disk(2))\n",
    "    \n",
    "    # Frangi와 Gabor 결과 결합: Gabor(theta=45)에 0.1, Frangi에 0.9의 가중치 부여\n",
    "    all_img = cv2.add(0.1 * sk_gabor_img_2.astype(np.float32), 0.9 * sk_frangi_img.astype(np.float32))\n",
    "    all_img = morphology.closing(all_img, morphology.disk(1))\n",
    "    \n",
    "    # Thresholding을 통해 이진화 (임계값 0.3 사용)\n",
    "    _, all_img = cv2.threshold(all_img, 0.3, 1, cv2.THRESH_BINARY)\n",
    "    \n",
    "    # 연결 영역(연결분할) 라벨링 및 노이즈 제거\n",
    "    bool_img = all_img.astype(bool)\n",
    "    label_image = measure.label(bool_img)\n",
    "    count = 0\n",
    "    for region in measure.regionprops(label_image):\n",
    "        if region.area < 10:\n",
    "            for coord in region.coords:\n",
    "                all_img[coord[0], coord[1]] = 0\n",
    "            continue\n",
    "        if region.eccentricity > 0.98:\n",
    "            count += 1\n",
    "        else:\n",
    "            for coord in region.coords:\n",
    "                all_img[coord[0], coord[1]] = 0\n",
    "    \n",
    "    # 남은 영역에서 중앙축(스켈레톤) 추출\n",
    "    skel, distance = morphology.medial_axis(all_img.astype(int), return_distance=True)\n",
    "    skels = morphology.closing(skel, morphology.disk(1))\n",
    "    return skels, count\n",
    "\n",
    "def face_wrinkle(path):\n",
    "    # 이미지 읽기 (cv2.imread는 BGR 포맷으로 읽습니다.)\n",
    "    image = cv2.imread(path)\n",
    "    if image is None:\n",
    "        print(\"이미지를 찾을 수 없습니다.\")\n",
    "        return\n",
    "    \n",
    "    # 주름 스켈레톤과 영역 개수 추출\n",
    "    skels, count = master_control(image)\n",
    "    print(\"검출된 주름 영역 수:\", count)\n",
    "    \n",
    "    # 원본 이미지 위에 주름 스켈레톤 오버레이 (cv2.imshow로 표시)\n",
    "    overlay = image.copy()\n",
    "    # 스켈레톤은 boolean이므로, 255로 스케일링하여 오버레이 (BGR: 빨간색 [0, 0, 255])\n",
    "    overlay[skels > 0] = [0, 0, 255]\n",
    "    \n",
    "    # cv2.imshow로 결과 표시 (Jupyter Notebook이 아닌 로컬 환경에서 사용)\n",
    "    cv2.imshow(\"Original Image\", image)\n",
    "    cv2.imshow(\"Wrinkle Skeleton Mask\", (skels * 255).astype(np.uint8))\n",
    "    cv2.imshow(\"Overlay (Red: Wrinkle)\", overlay)\n",
    "    cv2.waitKey(0)\n",
    "    cv2.destroyAllWindows()\n",
    "\n",
    "# 실행 예시: 아래 경로를 사용자의 이미지 파일 경로로 수정하세요.\n",
    "if __name__ == '__main__':\n",
    "    image_path = \"Asian_celebrity_align/shingu/1_shingu_70_m.jpg\"\n",
    "    face_wrinkle(image_path)\n"
   ]
  },
  {
   "cell_type": "code",
   "execution_count": 3,
   "id": "a6db34c9-1c87-49ed-8f80-0d659ea2e9c2",
   "metadata": {},
   "outputs": [
    {
     "name": "stdout",
     "output_type": "stream",
     "text": [
      "Requirement already satisfied: scikit-image in /home/comple/miniconda3/envs/insightface/lib/python3.8/site-packages (0.21.0)\n",
      "Requirement already satisfied: numpy>=1.21.1 in /home/comple/miniconda3/envs/insightface/lib/python3.8/site-packages (from scikit-image) (1.24.4)\n",
      "Requirement already satisfied: scipy>=1.8 in /home/comple/miniconda3/envs/insightface/lib/python3.8/site-packages (from scikit-image) (1.10.1)\n",
      "Requirement already satisfied: networkx>=2.8 in /home/comple/miniconda3/envs/insightface/lib/python3.8/site-packages (from scikit-image) (3.0)\n",
      "Requirement already satisfied: pillow>=9.0.1 in /home/comple/miniconda3/envs/insightface/lib/python3.8/site-packages (from scikit-image) (10.2.0)\n",
      "Requirement already satisfied: imageio>=2.27 in /home/comple/miniconda3/envs/insightface/lib/python3.8/site-packages (from scikit-image) (2.35.1)\n",
      "Requirement already satisfied: tifffile>=2022.8.12 in /home/comple/miniconda3/envs/insightface/lib/python3.8/site-packages (from scikit-image) (2023.7.10)\n",
      "Requirement already satisfied: PyWavelets>=1.1.1 in /home/comple/miniconda3/envs/insightface/lib/python3.8/site-packages (from scikit-image) (1.4.1)\n",
      "Requirement already satisfied: packaging>=21 in /home/comple/miniconda3/envs/insightface/lib/python3.8/site-packages (from scikit-image) (24.2)\n",
      "Requirement already satisfied: lazy_loader>=0.2 in /home/comple/miniconda3/envs/insightface/lib/python3.8/site-packages (from scikit-image) (0.4)\n"
     ]
    }
   ],
   "source": [
    "!pip install scikit-image"
   ]
  }
 ],
 "metadata": {
  "kernelspec": {
   "display_name": "Python 3 (ipykernel)",
   "language": "python",
   "name": "python3"
  },
  "language_info": {
   "codemirror_mode": {
    "name": "ipython",
    "version": 3
   },
   "file_extension": ".py",
   "mimetype": "text/x-python",
   "name": "python",
   "nbconvert_exporter": "python",
   "pygments_lexer": "ipython3",
   "version": "3.8.20"
  }
 },
 "nbformat": 4,
 "nbformat_minor": 5
}
