{
 "cells": [
  {
   "cell_type": "code",
   "execution_count": 1,
   "id": "b6a47edb-8cf4-40db-a94b-bcfe18e79b9a",
   "metadata": {},
   "outputs": [
    {
     "name": "stdout",
     "output_type": "stream",
     "text": [
      "** Mean Accuracy: 0.993\n",
      "** Adapted Mean Accuracy: 0.932\n",
      "** Mean Accuracy: 0.993\n",
      "** Adapted Mean Accuracy: 0.982833\n",
      "** Mean Accuracy: 0.993\n",
      "** Adapted Mean Accuracy: 0.992333\n",
      "** Mean Accuracy: 0.993\n",
      "** Adapted Mean Accuracy: 0.937667\n",
      "** Mean Accuracy: 0.993\n",
      "** Adapted Mean Accuracy: 0.9855\n",
      "** Mean Accuracy: 0.993\n",
      "** Adapted Mean Accuracy: 0.9925\n",
      "** Mean Accuracy: 0.993\n",
      "** Adapted Mean Accuracy: 0.933333\n",
      "** Mean Accuracy: 0.993\n",
      "** Adapted Mean Accuracy: 0.986667\n",
      "** Mean Accuracy: 0.993\n",
      "** Adapted Mean Accuracy: 0.9925\n",
      "** Mean Accuracy: 0.992667\n",
      "** Adapted Mean Accuracy: 0.879667\n",
      "** Mean Accuracy: 0.992667\n",
      "** Adapted Mean Accuracy: 0.9725\n",
      "** Mean Accuracy: 0.992667\n",
      "** Adapted Mean Accuracy: 0.9925\n",
      "** Mean Accuracy: 0.992667\n",
      "** Adapted Mean Accuracy: 0.877833\n",
      "** Mean Accuracy: 0.992667\n",
      "** Adapted Mean Accuracy: 0.976667\n",
      "** Mean Accuracy: 0.992667\n",
      "** Adapted Mean Accuracy: 0.992667\n",
      "** Mean Accuracy: 0.992667\n",
      "** Adapted Mean Accuracy: 0.873333\n",
      "** Mean Accuracy: 0.992667\n",
      "** Adapted Mean Accuracy: 0.9785\n",
      "** Mean Accuracy: 0.992667\n",
      "** Adapted Mean Accuracy: 0.992667\n",
      "** Mean Accuracy: 0.993\n",
      "** Adapted Mean Accuracy: 0.864\n",
      "** Mean Accuracy: 0.993\n",
      "** Adapted Mean Accuracy: 0.954333\n",
      "** Mean Accuracy: 0.993\n",
      "** Adapted Mean Accuracy: 0.992833\n",
      "** Mean Accuracy: 0.993\n",
      "** Adapted Mean Accuracy: 0.853833\n",
      "** Mean Accuracy: 0.993\n",
      "** Adapted Mean Accuracy: 0.964\n",
      "** Mean Accuracy: 0.993\n",
      "** Adapted Mean Accuracy: 0.992667\n",
      "** Mean Accuracy: 0.993\n",
      "** Adapted Mean Accuracy: 0.84\n",
      "** Mean Accuracy: 0.993\n",
      "** Adapted Mean Accuracy: 0.9705\n",
      "** Mean Accuracy: 0.993\n",
      "** Adapted Mean Accuracy: 0.992667\n"
     ]
    }
   ],
   "source": [
    "import os\n",
    "with open('Asian_celebrity_LFW_benchmark_results.txt', 'r') as f:\n",
    "    for line in f:\n",
    "        if '** Adapted Mean Accuracy:' in line:\n",
    "            print(line.strip())\n",
    "        elif '** Mean Accuracy:' in line:\n",
    "            print(line.strip())"
   ]
  },
  {
   "cell_type": "code",
   "execution_count": null,
   "id": "1dad85ae-8462-4013-8f9d-53e7a9e9b909",
   "metadata": {},
   "outputs": [],
   "source": []
  }
 ],
 "metadata": {
  "kernelspec": {
   "display_name": "Python 3 (ipykernel)",
   "language": "python",
   "name": "python3"
  },
  "language_info": {
   "codemirror_mode": {
    "name": "ipython",
    "version": 3
   },
   "file_extension": ".py",
   "mimetype": "text/x-python",
   "name": "python",
   "nbconvert_exporter": "python",
   "pygments_lexer": "ipython3",
   "version": "3.12.7"
  }
 },
 "nbformat": 4,
 "nbformat_minor": 5
}
