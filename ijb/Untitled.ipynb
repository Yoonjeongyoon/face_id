{
 "cells": [
  {
   "cell_type": "code",
   "execution_count": 4,
   "id": "e7cd81ca-0c5f-4203-b3d5-4a4b23e34f8d",
   "metadata": {},
   "outputs": [
    {
     "name": "stdout",
     "output_type": "stream",
     "text": [
      "🔍 template_media_df columns:\n",
      "Index(['1.jpg 1 69544'], dtype='object')\n",
      "\n",
      "🔍 pair_label_df columns:\n",
      "Index(['1 11065 1'], dtype='object')\n"
     ]
    }
   ],
   "source": [
    "import pandas as pd\n",
    "\n",
    "# 파일 경로 설정\n",
    "template_media_path = 'ijbc_face_tid_mid.txt'\n",
    "pair_label_path = 'ijbc_template_pair_label.txt'\n",
    "\n",
    "# CSV 파일 로드 (구분자 자동 감지 또는 , 대신 다른 구분자가 있을 수 있으니 sep 확인)\n",
    "template_media_df = pd.read_csv(template_media_path)\n",
    "pair_label_df = pd.read_csv(pair_label_path)\n",
    "\n",
    "print(\"🔍 template_media_df columns:\")\n",
    "print(template_media_df.columns)\n",
    "\n",
    "print(\"\\n🔍 pair_label_df columns:\")\n",
    "print(pair_label_df.columns)\n"
   ]
  },
  {
   "cell_type": "code",
   "execution_count": 7,
   "id": "3b7fed07-aed4-4cff-9a08-6398b3ff69ed",
   "metadata": {},
   "outputs": [
    {
     "name": "stdout",
     "output_type": "stream",
     "text": [
      "🔍 전체 템플릿 수: 34180\n",
      "🔍 1:1 템플릿 수: 23124\n",
      "✅ 매칭된 템플릿 수: 865\n",
      "✅ 고유 이미지 수: 1895\n"
     ]
    }
   ],
   "source": [
    "import pandas as pd\n",
    "\n",
    "# 파일 경로\n",
    "template_media_path = 'ijbc_face_tid_mid.txt'\n",
    "pair_label_path = 'ijbc_template_pair_label.txt'\n",
    "\n",
    "# 공백 여러 칸 기준으로 읽기 + 컬럼명 수동 지정\n",
    "template_media_df = pd.read_csv(\n",
    "    template_media_path,\n",
    "    sep=r'\\s+',\n",
    "    header=None,\n",
    "    names=['FILE_NAME', 'MEDIA_ID', 'TEMPLATE_ID']\n",
    ")\n",
    "\n",
    "pair_label_df = pd.read_csv(\n",
    "    pair_label_path,\n",
    "    sep=r'\\s+',\n",
    "    header=None,\n",
    "    names=['TEMPLATE_ID_1', 'TEMPLATE_ID_2', 'IS_SAME']\n",
    ")\n",
    "\n",
    "# 자료형 명시적 변환 (중요!)\n",
    "template_media_df['TEMPLATE_ID'] = template_media_df['TEMPLATE_ID'].astype(int)\n",
    "pair_label_df['TEMPLATE_ID_1'] = pair_label_df['TEMPLATE_ID_1'].astype(int)\n",
    "pair_label_df['TEMPLATE_ID_2'] = pair_label_df['TEMPLATE_ID_2'].astype(int)\n",
    "\n",
    "# 등장하는 템플릿 ID 추출\n",
    "template_ids = pd.unique(pair_label_df[['TEMPLATE_ID_1', 'TEMPLATE_ID_2']].values.ravel())\n",
    "\n",
    "# 매칭 확인\n",
    "used_images_df = template_media_df[template_media_df['TEMPLATE_ID'].isin(template_ids)]\n",
    "\n",
    "# 고유 이미지 수 계산\n",
    "unique_images = used_images_df['FILE_NAME'].nunique()\n",
    "\n",
    "# 디버깅용 출력\n",
    "print(f\"🔍 전체 템플릿 수: {template_media_df['TEMPLATE_ID'].nunique()}\")\n",
    "print(f\"🔍 1:1 템플릿 수: {len(template_ids)}\")\n",
    "print(f\"✅ 매칭된 템플릿 수: {used_images_df['TEMPLATE_ID'].nunique()}\")\n",
    "print(f\"✅ 고유 이미지 수: {unique_images}\")\n"
   ]
  },
  {
   "cell_type": "code",
   "execution_count": 8,
   "id": "248cb43e-f981-4caf-bd37-bfd17fafa1ec",
   "metadata": {},
   "outputs": [
    {
     "name": "stdout",
     "output_type": "stream",
     "text": [
      "🛑 매핑 안 된 템플릿 수: 22259\n",
      "예시로 매칭 안 된 템플릿 몇 개: [2, 4, 5, 6, 7, 8, 9, 10, 11, 12]\n"
     ]
    }
   ],
   "source": [
    "# 템플릿 ID 비교\n",
    "media_tids = set(template_media_df['TEMPLATE_ID'].unique())\n",
    "verification_tids = set(template_ids)\n",
    "\n",
    "missing = verification_tids - media_tids\n",
    "\n",
    "print(f\"🛑 매핑 안 된 템플릿 수: {len(missing)}\")\n",
    "print(\"예시로 매칭 안 된 템플릿 몇 개:\", list(missing)[:10])"
   ]
  }
 ],
 "metadata": {
  "kernelspec": {
   "display_name": "Python 3 (ipykernel)",
   "language": "python",
   "name": "python3"
  },
  "language_info": {
   "codemirror_mode": {
    "name": "ipython",
    "version": 3
   },
   "file_extension": ".py",
   "mimetype": "text/x-python",
   "name": "python",
   "nbconvert_exporter": "python",
   "pygments_lexer": "ipython3",
   "version": "3.12.7"
  }
 },
 "nbformat": 4,
 "nbformat_minor": 5
}
