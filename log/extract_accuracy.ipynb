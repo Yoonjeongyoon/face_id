{
 "cells": [
  {
   "cell_type": "code",
   "execution_count": 13,
   "id": "b6a47edb-8cf4-40db-a94b-bcfe18e79b9a",
   "metadata": {},
   "outputs": [
    {
     "name": "stdout",
     "output_type": "stream",
     "text": [
      "** Mean Accuracy: 0.940667\n",
      "** Adapted Mean Accuracy: 0.787\n",
      "** Mean Accuracy: 0.940667\n",
      "** Adapted Mean Accuracy: 0.861\n",
      "** Mean Accuracy: 0.940667\n",
      "** Adapted Mean Accuracy: 0.9115\n",
      "** Mean Accuracy: 0.940667\n",
      "** Adapted Mean Accuracy: 0.7965\n",
      "** Mean Accuracy: 0.940667\n",
      "** Adapted Mean Accuracy: 0.874833\n",
      "** Mean Accuracy: 0.940667\n",
      "** Adapted Mean Accuracy: 0.916\n",
      "** Mean Accuracy: 0.940667\n",
      "** Adapted Mean Accuracy: 0.8055\n",
      "** Mean Accuracy: 0.940667\n",
      "** Adapted Mean Accuracy: 0.882\n",
      "** Mean Accuracy: 0.940667\n",
      "** Adapted Mean Accuracy: 0.917667\n",
      "** Mean Accuracy: 0.946\n",
      "** Adapted Mean Accuracy: 0.754\n",
      "** Mean Accuracy: 0.946\n",
      "** Adapted Mean Accuracy: 0.8505\n",
      "** Mean Accuracy: 0.946\n",
      "** Adapted Mean Accuracy: 0.920667\n",
      "** Mean Accuracy: 0.946\n",
      "** Adapted Mean Accuracy: 0.768\n",
      "** Mean Accuracy: 0.946\n",
      "** Adapted Mean Accuracy: 0.865167\n",
      "** Mean Accuracy: 0.946\n",
      "** Adapted Mean Accuracy: 0.923\n",
      "** Mean Accuracy: 0.946\n",
      "** Adapted Mean Accuracy: 0.770833\n",
      "** Mean Accuracy: 0.946\n",
      "** Adapted Mean Accuracy: 0.870667\n",
      "** Mean Accuracy: 0.946\n",
      "** Adapted Mean Accuracy: 0.924333\n",
      "** Mean Accuracy: 0.948167\n",
      "** Adapted Mean Accuracy: 0.733667\n",
      "** Mean Accuracy: 0.948167\n",
      "** Adapted Mean Accuracy: 0.824\n",
      "** Mean Accuracy: 0.948167\n",
      "** Adapted Mean Accuracy: 0.924833\n",
      "** Mean Accuracy: 0.948167\n",
      "** Adapted Mean Accuracy: 0.737833\n",
      "** Mean Accuracy: 0.948167\n",
      "** Adapted Mean Accuracy: 0.845833\n",
      "** Mean Accuracy: 0.948167\n",
      "** Adapted Mean Accuracy: 0.927333\n",
      "** Mean Accuracy: 0.948167\n",
      "** Adapted Mean Accuracy: 0.734833\n",
      "** Mean Accuracy: 0.948167\n",
      "** Adapted Mean Accuracy: 0.862667\n",
      "** Mean Accuracy: 0.948167\n",
      "** Adapted Mean Accuracy: 0.932\n"
     ]
    }
   ],
   "source": [
    "import os\n",
    "with open('CPLFW_jpeg_compression_1_benchmark_results.txt', 'r') as f:\n",
    "    for line in f:\n",
    "        if '** Adapted Mean Accuracy:' in line:\n",
    "            print(line.strip())\n",
    "        elif '** Mean Accuracy:' in line:\n",
    "            print(line.strip())"
   ]
  },
  {
   "cell_type": "code",
   "execution_count": null,
   "id": "1dad85ae-8462-4013-8f9d-53e7a9e9b909",
   "metadata": {},
   "outputs": [],
   "source": []
  }
 ],
 "metadata": {
  "kernelspec": {
   "display_name": "Python 3 (ipykernel)",
   "language": "python",
   "name": "python3"
  },
  "language_info": {
   "codemirror_mode": {
    "name": "ipython",
    "version": 3
   },
   "file_extension": ".py",
   "mimetype": "text/x-python",
   "name": "python",
   "nbconvert_exporter": "python",
   "pygments_lexer": "ipython3",
   "version": "3.12.7"
  }
 },
 "nbformat": 4,
 "nbformat_minor": 5
}
