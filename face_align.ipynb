{
 "cells": [
  {
   "cell_type": "code",
   "execution_count": 2,
   "id": "909143d6-7c02-49d3-bbcd-36b220db7d4c",
   "metadata": {
    "scrolled": true
   },
   "outputs": [
    {
     "name": "stdout",
     "output_type": "stream",
     "text": [
      "Applied providers: ['CPUExecutionProvider'], with options: {'CPUExecutionProvider': {}}\n",
      "find model: /home/comple/.insightface/models/buffalo_l/1k3d68.onnx landmark_3d_68 ['None', 3, 192, 192] 0.0 1.0\n",
      "Applied providers: ['CPUExecutionProvider'], with options: {'CPUExecutionProvider': {}}\n",
      "find model: /home/comple/.insightface/models/buffalo_l/2d106det.onnx landmark_2d_106 ['None', 3, 192, 192] 0.0 1.0\n",
      "Applied providers: ['CPUExecutionProvider'], with options: {'CPUExecutionProvider': {}}\n",
      "find model: /home/comple/.insightface/models/buffalo_l/det_10g.onnx detection [1, 3, '?', '?'] 127.5 128.0\n",
      "Applied providers: ['CPUExecutionProvider'], with options: {'CPUExecutionProvider': {}}\n",
      "find model: /home/comple/.insightface/models/buffalo_l/genderage.onnx genderage ['None', 3, 96, 96] 0.0 1.0\n",
      "Applied providers: ['CPUExecutionProvider'], with options: {'CPUExecutionProvider': {}}\n",
      "find model: /home/comple/.insightface/models/buffalo_l/w600k_r50.onnx recognition ['None', 3, 112, 112] 127.5 127.5\n",
      "set det-size: (640, 640)\n",
      "3_Akashiya-Sanma_67_m.jpg 이미 처리됨, 건너뜀\n",
      "9_Akashiya-Sanma_61_m.jpg 이미 처리됨, 건너뜀\n",
      "6_Akashiya-Sanma_56_m.jpg 이미 처리됨, 건너뜀\n",
      "4_Akashiya-Sanma_68_m.jpg 이미 처리됨, 건너뜀\n",
      "5_Akashiya-Sanma_57_m.jpg 이미 처리됨, 건너뜀\n",
      "1_Akashiya-Sanma_65_m.jpg 이미 처리됨, 건너뜀\n",
      "8_Akashiya-Sanma_53_m.jpg 이미 처리됨, 건너뜀\n",
      "0_Akashiya-Sanma_66_m.jpg 이미 처리됨, 건너뜀\n",
      "7_Akashiya-Sanma_60_m.jpg 이미 처리됨, 건너뜀\n",
      "2_Akashiya-Sanma_60_m.jpg 이미 처리됨, 건너뜀\n"
     ]
    }
   ],
   "source": [
    "import os\n",
    "import cv2\n",
    "import insightface\n",
    "from insightface.utils import face_align\n",
    "import warnings\n",
    "\n",
    "warnings.simplefilter(action='ignore', category=FutureWarning)\n",
    "\n",
    "#경로 \n",
    "input_folder = 'Asian_celebrity'       \n",
    "output_folder = 'Asian_celebrity_align'  \n",
    "os.makedirs(output_folder, exist_ok=True)\n",
    "#CPU를 사용해서 face_detection모델을 돌림 \n",
    "app = insightface.app.FaceAnalysis(providers=['CPUExecutionProvider'])\n",
    "app.prepare(ctx_id=-1, det_size=(640, 640)) \n",
    "\n",
    "\n",
    "for root, _, files in os.walk(input_folder): \n",
    "    for image_name in files:\n",
    "        image_path = os.path.join(root, image_name)\n",
    "        img = cv2.imread(image_path)\n",
    "        if img is None:\n",
    "            print(f\"{image_name} - 이미지 로드 실패\")\n",
    "            continue\n",
    "\n",
    "        # 저장 경로 구성\n",
    "        relative_path = os.path.relpath(root, input_folder)\n",
    "        save_folder = os.path.join(output_folder, relative_path)\n",
    "        output_path = os.path.join(save_folder, image_name)\n",
    "\n",
    "        # 이미 만들어진 것이 있으면 추가로 하지 않음\n",
    "        if os.path.exists(output_path):\n",
    "            print(f\"{image_name} 이미 처리됨, 건너뜀\")\n",
    "            continue\n",
    "\n",
    "        # 얼굴 검출\n",
    "        faces = app.get(img)\n",
    "        if len(faces) == 0:\n",
    "            print(f\"{image_name}에서 얼굴 검출 실패\")\n",
    "            continue\n",
    "\n",
    "        # 얼굴 정렬\n",
    "        face = faces[0]\n",
    "        aligned_face = face_align.norm_crop(img, face.kps)\n",
    "\n",
    "        os.makedirs(save_folder, exist_ok=True)\n",
    "        cv2.imwrite(output_path, aligned_face)\n",
    "        print(f\"{image_name} 정렬 완료\")"
   ]
  },
  {
   "cell_type": "code",
   "execution_count": null,
   "id": "358fa04c-77ef-4272-a115-d39b6d1778d7",
   "metadata": {},
   "outputs": [],
   "source": []
  }
 ],
 "metadata": {
  "kernelspec": {
   "display_name": "Python 3 (ipykernel)",
   "language": "python",
   "name": "python3"
  },
  "language_info": {
   "codemirror_mode": {
    "name": "ipython",
    "version": 3
   },
   "file_extension": ".py",
   "mimetype": "text/x-python",
   "name": "python",
   "nbconvert_exporter": "python",
   "pygments_lexer": "ipython3",
   "version": "3.12.7"
  }
 },
 "nbformat": 4,
 "nbformat_minor": 5
}
