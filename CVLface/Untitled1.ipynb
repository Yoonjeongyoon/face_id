{
 "cells": [
  {
   "cell_type": "code",
   "execution_count": 1,
   "id": "bf51d1d9-e74b-49f5-9ac6-5fc1a67910c8",
   "metadata": {},
   "outputs": [
    {
     "name": "stdout",
     "output_type": "stream",
     "text": [
      "✅ 변환 완료! CACD-VS 데이터를 LFW 프로토콜 형식으로 변환했습니다.\n"
     ]
    }
   ],
   "source": [
    "import os\n",
    "import shutil\n",
    "\n",
    "# 원본 CACD-VS 이미지가 저장된 디렉토리\n",
    "source_dir = \"CACD_VS\"\n",
    "\n",
    "# 변환할 데이터 구조\n",
    "output_dir = \"CACD_VS_test\"\n",
    "gen_path = os.path.join(output_dir, \"gen\")\n",
    "imp_path = os.path.join(output_dir, \"imp\")\n",
    "\n",
    "# 폴더 생성\n",
    "os.makedirs(gen_path, exist_ok=True)\n",
    "os.makedirs(imp_path, exist_ok=True)\n",
    "\n",
    "# 공식 문서에 따라 4000개의 페어를 400개씩 10개의 fold로 나누고,\n",
    "# 각 fold에서 앞 200개는 gen, 뒤 200개는 imp에 배치\n",
    "\n",
    "pairs_per_fold = 400  # 각 fold당 400개 페어\n",
    "total_pairs = 4000     # 전체 페어 수\n",
    "\n",
    "for fold_idx in range(10):  # 10개의 fold 처리\n",
    "    start_idx = fold_idx * pairs_per_fold  # fold 시작 인덱스\n",
    "    gen_start, gen_end = start_idx, start_idx + 200  # genuine 페어 범위\n",
    "    imp_start, imp_end = start_idx + 200, start_idx + 400  # imposter 페어 범위\n",
    "\n",
    "    # Genuine 페어 저장\n",
    "    for i in range(gen_start, gen_end):\n",
    "        img1 = f\"{i:04d}_0.jpg\"\n",
    "        img2 = f\"{i:04d}_1.jpg\"\n",
    "        src1 = os.path.join(source_dir, img1)\n",
    "        src2 = os.path.join(source_dir, img2)\n",
    "\n",
    "        pair_folder = os.path.join(gen_path, f\"{i:04d}\")\n",
    "        os.makedirs(pair_folder, exist_ok=True)\n",
    "\n",
    "        if os.path.exists(src1) and os.path.exists(src2):\n",
    "            shutil.move(src1, os.path.join(pair_folder, img1))\n",
    "            shutil.move(src2, os.path.join(pair_folder, img2))\n",
    "\n",
    "    # Imposter 페어 저장\n",
    "    for i in range(imp_start, imp_end):\n",
    "        img1 = f\"{i:04d}_0.jpg\"\n",
    "        img2 = f\"{i:04d}_1.jpg\"\n",
    "        src1 = os.path.join(source_dir, img1)\n",
    "        src2 = os.path.join(source_dir, img2)\n",
    "\n",
    "        pair_folder = os.path.join(imp_path, f\"{i:04d}\")\n",
    "        os.makedirs(pair_folder, exist_ok=True)\n",
    "\n",
    "        if os.path.exists(src1) and os.path.exists(src2):\n",
    "            shutil.move(src1, os.path.join(pair_folder, img1))\n",
    "            shutil.move(src2, os.path.join(pair_folder, img2))\n",
    "\n",
    "print(\"✅ 변환 완료! CACD-VS 데이터를 LFW 프로토콜 형식으로 변환했습니다.\")"
   ]
  }
 ],
 "metadata": {
  "kernelspec": {
   "display_name": "Python 3 (ipykernel)",
   "language": "python",
   "name": "python3"
  },
  "language_info": {
   "codemirror_mode": {
    "name": "ipython",
    "version": 3
   },
   "file_extension": ".py",
   "mimetype": "text/x-python",
   "name": "python",
   "nbconvert_exporter": "python",
   "pygments_lexer": "ipython3",
   "version": "3.12.7"
  }
 },
 "nbformat": 4,
 "nbformat_minor": 5
}
