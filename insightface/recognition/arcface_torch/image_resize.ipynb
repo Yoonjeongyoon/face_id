{
 "cells": [
  {
   "cell_type": "code",
   "execution_count": 3,
   "id": "4e9ff1f3-9066-413a-920f-9ca379a4732a",
   "metadata": {},
   "outputs": [
    {
     "name": "stdout",
     "output_type": "stream",
     "text": [
      "Resized: qwer/1_NamKoong-won_82_m.jpg → qwer/./1_NamKoong-won_82_m.jpg\n",
      "Resized: qwer/8_JeonWon-ju_83_w.jpg → qwer/./8_JeonWon-ju_83_w.jpg\n"
     ]
    }
   ],
   "source": [
    "import os\n",
    "from PIL import Image\n",
    "\n",
    "\n",
    "input_root = \"qwer\"  \n",
    "output_root = \"qwer\"  \n",
    "\n",
    "\n",
    "os.makedirs(output_root, exist_ok=True)\n",
    "\n",
    "\n",
    "def resize_images(input_folder, output_folder, size=(112, 112)):\n",
    "    for root, dirs, files in os.walk(input_folder):  \n",
    "        for file in files:\n",
    "            if file.lower().endswith(('.png', '.jpg', '.jpeg', '.bmp', '.gif')):  \n",
    "                input_path = os.path.join(root, file)\n",
    "                relative_path = os.path.relpath(root, input_folder)  \n",
    "                output_dir = os.path.join(output_folder, relative_path)\n",
    "\n",
    "                os.makedirs(output_dir, exist_ok=True)  \n",
    "                \n",
    "                output_path = os.path.join(output_dir, file)\n",
    "\n",
    "                try:\n",
    "                    img = Image.open(input_path)\n",
    "                    img = img.resize(size, Image.LANCZOS)\n",
    "                    if img.mode in (\"RGBA\", \"P\"):\n",
    "                        img = img.convert(\"RGB\")\n",
    "                    img.save(output_path)\n",
    "                    print(f\"Resized: {input_path} → {output_path}\")\n",
    "                except Exception as e:\n",
    "                    print(f\"Error processing {input_path}: {e}\")\n",
    "\n",
    "# 실행\n",
    "resize_images(input_root, output_root)\n"
   ]
  },
  {
   "cell_type": "code",
   "execution_count": null,
   "id": "cc5826ff-2005-499d-b6bd-77e767577efe",
   "metadata": {},
   "outputs": [],
   "source": []
  }
 ],
 "metadata": {
  "kernelspec": {
   "display_name": "Python 3 (ipykernel)",
   "language": "python",
   "name": "python3"
  },
  "language_info": {
   "codemirror_mode": {
    "name": "ipython",
    "version": 3
   },
   "file_extension": ".py",
   "mimetype": "text/x-python",
   "name": "python",
   "nbconvert_exporter": "python",
   "pygments_lexer": "ipython3",
   "version": "3.12.7"
  }
 },
 "nbformat": 4,
 "nbformat_minor": 5
}
