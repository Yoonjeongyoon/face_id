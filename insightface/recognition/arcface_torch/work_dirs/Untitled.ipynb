{
 "cells": [
  {
   "cell_type": "code",
   "execution_count": 3,
   "id": "8ad551d7-3868-4281-b27b-49e0cb6fcf71",
   "metadata": {},
   "outputs": [
    {
     "name": "stdout",
     "output_type": "stream",
     "text": [
      "✅ gen 폴더의 번호 변경이 완료되었습니다.\n"
     ]
    }
   ],
   "source": [
    "import os\n",
    "\n",
    "# 기존 gen 폴더 경로 (폴더를 변경할 대상)\n",
    "gen_path = \"CACD_VS/imp\"\n",
    "\n",
    "# 기존 폴더명 가져오기 (정렬)\n",
    "old_folders = sorted(os.listdir(gen_path))\n",
    "\n",
    "# 새로운 폴더명 매핑을 위한 리스트 생성\n",
    "new_folders = list(range(2000))  # 0~1999까지의 숫자 생성\n",
    "\n",
    "# 폴더명 변경 진행\n",
    "for old_idx, new_idx in zip(old_folders, new_folders):\n",
    "    old_folder_path = os.path.join(gen_path, old_idx)  # 기존 폴더 경로\n",
    "    new_folder_path = os.path.join(gen_path, f\"{new_idx:04d}\")  # 새로운 폴더 경로\n",
    "\n",
    "    # 폴더 이름 변경\n",
    "    os.rename(old_folder_path, new_folder_path)\n",
    "\n",
    "print(\"✅ gen 폴더의 번호 변경이 완료되었습니다.\")"
   ]
  },
  {
   "cell_type": "code",
   "execution_count": null,
   "id": "266b00a3-e293-4c92-929e-540b9029a65a",
   "metadata": {},
   "outputs": [],
   "source": []
  }
 ],
 "metadata": {
  "kernelspec": {
   "display_name": "Python 3 (ipykernel)",
   "language": "python",
   "name": "python3"
  },
  "language_info": {
   "codemirror_mode": {
    "name": "ipython",
    "version": 3
   },
   "file_extension": ".py",
   "mimetype": "text/x-python",
   "name": "python",
   "nbconvert_exporter": "python",
   "pygments_lexer": "ipython3",
   "version": "3.10.16"
  }
 },
 "nbformat": 4,
 "nbformat_minor": 5
}
